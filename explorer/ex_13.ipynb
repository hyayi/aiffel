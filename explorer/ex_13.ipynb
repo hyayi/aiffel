{
 "cells": [
  {
   "attachments": {},
   "cell_type": "markdown",
   "metadata": {},
   "source": [
    "# ex13 Movielens 영화 추천 실습"
   ]
  },
  {
   "cell_type": "code",
   "execution_count": 1,
   "metadata": {},
   "outputs": [],
   "source": [
    "!mkdir -p ~/aiffel/recommendata_iu/data/ml-1m\n",
    "!ln -s ~/data/ml-1m/* ~/aiffel/recommendata_iu/data/ml-1m"
   ]
  },
  {
   "cell_type": "code",
   "execution_count": 3,
   "metadata": {},
   "outputs": [
    {
     "name": "stdout",
     "output_type": "stream",
     "text": [
      "1.21.4\n",
      "1.7.1\n",
      "0.4.8\n"
     ]
    }
   ],
   "source": [
    "import numpy as np\n",
    "import scipy\n",
    "import implicit\n",
    "import pandas as pd\n",
    "\n",
    "print(np.__version__)\n",
    "print(scipy.__version__)\n",
    "print(implicit.__version__)"
   ]
  },
  {
   "attachments": {},
   "cell_type": "markdown",
   "metadata": {},
   "source": [
    "## 1. 데이터 준비와 전처리"
   ]
  },
  {
   "cell_type": "code",
   "execution_count": 4,
   "metadata": {},
   "outputs": [
    {
     "data": {
      "text/html": [
       "<div>\n",
       "<style scoped>\n",
       "    .dataframe tbody tr th:only-of-type {\n",
       "        vertical-align: middle;\n",
       "    }\n",
       "\n",
       "    .dataframe tbody tr th {\n",
       "        vertical-align: top;\n",
       "    }\n",
       "\n",
       "    .dataframe thead th {\n",
       "        text-align: right;\n",
       "    }\n",
       "</style>\n",
       "<table border=\"1\" class=\"dataframe\">\n",
       "  <thead>\n",
       "    <tr style=\"text-align: right;\">\n",
       "      <th></th>\n",
       "      <th>user_id</th>\n",
       "      <th>movie_id</th>\n",
       "      <th>ratings</th>\n",
       "      <th>timestamp</th>\n",
       "    </tr>\n",
       "  </thead>\n",
       "  <tbody>\n",
       "    <tr>\n",
       "      <th>0</th>\n",
       "      <td>1</td>\n",
       "      <td>1193</td>\n",
       "      <td>5</td>\n",
       "      <td>978300760</td>\n",
       "    </tr>\n",
       "    <tr>\n",
       "      <th>1</th>\n",
       "      <td>1</td>\n",
       "      <td>661</td>\n",
       "      <td>3</td>\n",
       "      <td>978302109</td>\n",
       "    </tr>\n",
       "    <tr>\n",
       "      <th>2</th>\n",
       "      <td>1</td>\n",
       "      <td>914</td>\n",
       "      <td>3</td>\n",
       "      <td>978301968</td>\n",
       "    </tr>\n",
       "    <tr>\n",
       "      <th>3</th>\n",
       "      <td>1</td>\n",
       "      <td>3408</td>\n",
       "      <td>4</td>\n",
       "      <td>978300275</td>\n",
       "    </tr>\n",
       "    <tr>\n",
       "      <th>4</th>\n",
       "      <td>1</td>\n",
       "      <td>2355</td>\n",
       "      <td>5</td>\n",
       "      <td>978824291</td>\n",
       "    </tr>\n",
       "  </tbody>\n",
       "</table>\n",
       "</div>"
      ],
      "text/plain": [
       "   user_id  movie_id  ratings  timestamp\n",
       "0        1      1193        5  978300760\n",
       "1        1       661        3  978302109\n",
       "2        1       914        3  978301968\n",
       "3        1      3408        4  978300275\n",
       "4        1      2355        5  978824291"
      ]
     },
     "execution_count": 4,
     "metadata": {},
     "output_type": "execute_result"
    }
   ],
   "source": [
    "import os\n",
    "rating_file_path=os.getenv('HOME') + '/aiffel/recommendata_iu/data/ml-1m/ratings.dat'\n",
    "ratings_cols = ['user_id', 'movie_id', 'ratings', 'timestamp']\n",
    "ratings = pd.read_csv(rating_file_path, sep='::', names=ratings_cols, engine='python', encoding = \"ISO-8859-1\")\n",
    "orginal_data_size = len(ratings)\n",
    "ratings.head()"
   ]
  },
  {
   "cell_type": "code",
   "execution_count": 5,
   "metadata": {},
   "outputs": [
    {
     "data": {
      "text/html": [
       "<div>\n",
       "<style scoped>\n",
       "    .dataframe tbody tr th:only-of-type {\n",
       "        vertical-align: middle;\n",
       "    }\n",
       "\n",
       "    .dataframe tbody tr th {\n",
       "        vertical-align: top;\n",
       "    }\n",
       "\n",
       "    .dataframe thead th {\n",
       "        text-align: right;\n",
       "    }\n",
       "</style>\n",
       "<table border=\"1\" class=\"dataframe\">\n",
       "  <thead>\n",
       "    <tr style=\"text-align: right;\">\n",
       "      <th></th>\n",
       "      <th>user_id</th>\n",
       "      <th>movie_id</th>\n",
       "      <th>ratings</th>\n",
       "      <th>timestamp</th>\n",
       "    </tr>\n",
       "  </thead>\n",
       "  <tbody>\n",
       "    <tr>\n",
       "      <th>0</th>\n",
       "      <td>1</td>\n",
       "      <td>1193</td>\n",
       "      <td>5</td>\n",
       "      <td>978300760</td>\n",
       "    </tr>\n",
       "    <tr>\n",
       "      <th>1</th>\n",
       "      <td>1</td>\n",
       "      <td>661</td>\n",
       "      <td>3</td>\n",
       "      <td>978302109</td>\n",
       "    </tr>\n",
       "    <tr>\n",
       "      <th>2</th>\n",
       "      <td>1</td>\n",
       "      <td>914</td>\n",
       "      <td>3</td>\n",
       "      <td>978301968</td>\n",
       "    </tr>\n",
       "    <tr>\n",
       "      <th>3</th>\n",
       "      <td>1</td>\n",
       "      <td>3408</td>\n",
       "      <td>4</td>\n",
       "      <td>978300275</td>\n",
       "    </tr>\n",
       "    <tr>\n",
       "      <th>4</th>\n",
       "      <td>1</td>\n",
       "      <td>2355</td>\n",
       "      <td>5</td>\n",
       "      <td>978824291</td>\n",
       "    </tr>\n",
       "  </tbody>\n",
       "</table>\n",
       "</div>"
      ],
      "text/plain": [
       "   user_id  movie_id  ratings  timestamp\n",
       "0        1      1193        5  978300760\n",
       "1        1       661        3  978302109\n",
       "2        1       914        3  978301968\n",
       "3        1      3408        4  978300275\n",
       "4        1      2355        5  978824291"
      ]
     },
     "execution_count": 5,
     "metadata": {},
     "output_type": "execute_result"
    }
   ],
   "source": [
    "import os\n",
    "rating_file_path=os.getenv('HOME') + '/aiffel/recommendata_iu/data/ml-1m/ratings.dat'\n",
    "ratings_cols = ['user_id', 'movie_id', 'ratings', 'timestamp']\n",
    "ratings = pd.read_csv(rating_file_path, sep='::', names=ratings_cols, engine='python', encoding = \"ISO-8859-1\")\n",
    "orginal_data_size = len(ratings)\n",
    "ratings.head()"
   ]
  },
  {
   "cell_type": "code",
   "execution_count": null,
   "metadata": {},
   "outputs": [],
   "source": []
  },
  {
   "cell_type": "code",
   "execution_count": 6,
   "metadata": {},
   "outputs": [
    {
     "name": "stdout",
     "output_type": "stream",
     "text": [
      "orginal_data_size: 1000209, filtered_data_size: 836478\n",
      "Ratio of Remaining Data is 83.63%\n"
     ]
    }
   ],
   "source": [
    "# 3점 이상만 남깁니다.\n",
    "ratings = ratings[ratings['ratings']>=3]\n",
    "filtered_data_size = len(ratings)\n",
    "\n",
    "print(f'orginal_data_size: {orginal_data_size}, filtered_data_size: {filtered_data_size}')\n",
    "print(f'Ratio of Remaining Data is {filtered_data_size / orginal_data_size:.2%}')"
   ]
  },
  {
   "cell_type": "code",
   "execution_count": 7,
   "metadata": {},
   "outputs": [],
   "source": [
    "# ratings 컬럼의 이름을 counts로 바꿉니다.\n",
    "ratings.rename(columns={'ratings':'counts'}, inplace=True)"
   ]
  },
  {
   "cell_type": "code",
   "execution_count": 26,
   "metadata": {},
   "outputs": [
    {
     "data": {
      "text/html": [
       "<div>\n",
       "<style scoped>\n",
       "    .dataframe tbody tr th:only-of-type {\n",
       "        vertical-align: middle;\n",
       "    }\n",
       "\n",
       "    .dataframe tbody tr th {\n",
       "        vertical-align: top;\n",
       "    }\n",
       "\n",
       "    .dataframe thead th {\n",
       "        text-align: right;\n",
       "    }\n",
       "</style>\n",
       "<table border=\"1\" class=\"dataframe\">\n",
       "  <thead>\n",
       "    <tr style=\"text-align: right;\">\n",
       "      <th></th>\n",
       "      <th>user_id</th>\n",
       "      <th>movie_id</th>\n",
       "      <th>counts</th>\n",
       "      <th>timestamp</th>\n",
       "    </tr>\n",
       "  </thead>\n",
       "  <tbody>\n",
       "    <tr>\n",
       "      <th>0</th>\n",
       "      <td>1</td>\n",
       "      <td>1193</td>\n",
       "      <td>5</td>\n",
       "      <td>978300760</td>\n",
       "    </tr>\n",
       "    <tr>\n",
       "      <th>1</th>\n",
       "      <td>1</td>\n",
       "      <td>661</td>\n",
       "      <td>3</td>\n",
       "      <td>978302109</td>\n",
       "    </tr>\n",
       "    <tr>\n",
       "      <th>2</th>\n",
       "      <td>1</td>\n",
       "      <td>914</td>\n",
       "      <td>3</td>\n",
       "      <td>978301968</td>\n",
       "    </tr>\n",
       "    <tr>\n",
       "      <th>3</th>\n",
       "      <td>1</td>\n",
       "      <td>3408</td>\n",
       "      <td>4</td>\n",
       "      <td>978300275</td>\n",
       "    </tr>\n",
       "    <tr>\n",
       "      <th>4</th>\n",
       "      <td>1</td>\n",
       "      <td>2355</td>\n",
       "      <td>5</td>\n",
       "      <td>978824291</td>\n",
       "    </tr>\n",
       "    <tr>\n",
       "      <th>...</th>\n",
       "      <td>...</td>\n",
       "      <td>...</td>\n",
       "      <td>...</td>\n",
       "      <td>...</td>\n",
       "    </tr>\n",
       "    <tr>\n",
       "      <th>1000203</th>\n",
       "      <td>6040</td>\n",
       "      <td>1090</td>\n",
       "      <td>3</td>\n",
       "      <td>956715518</td>\n",
       "    </tr>\n",
       "    <tr>\n",
       "      <th>1000205</th>\n",
       "      <td>6040</td>\n",
       "      <td>1094</td>\n",
       "      <td>5</td>\n",
       "      <td>956704887</td>\n",
       "    </tr>\n",
       "    <tr>\n",
       "      <th>1000206</th>\n",
       "      <td>6040</td>\n",
       "      <td>562</td>\n",
       "      <td>5</td>\n",
       "      <td>956704746</td>\n",
       "    </tr>\n",
       "    <tr>\n",
       "      <th>1000207</th>\n",
       "      <td>6040</td>\n",
       "      <td>1096</td>\n",
       "      <td>4</td>\n",
       "      <td>956715648</td>\n",
       "    </tr>\n",
       "    <tr>\n",
       "      <th>1000208</th>\n",
       "      <td>6040</td>\n",
       "      <td>1097</td>\n",
       "      <td>4</td>\n",
       "      <td>956715569</td>\n",
       "    </tr>\n",
       "  </tbody>\n",
       "</table>\n",
       "<p>836478 rows × 4 columns</p>\n",
       "</div>"
      ],
      "text/plain": [
       "         user_id  movie_id  counts  timestamp\n",
       "0              1      1193       5  978300760\n",
       "1              1       661       3  978302109\n",
       "2              1       914       3  978301968\n",
       "3              1      3408       4  978300275\n",
       "4              1      2355       5  978824291\n",
       "...          ...       ...     ...        ...\n",
       "1000203     6040      1090       3  956715518\n",
       "1000205     6040      1094       5  956704887\n",
       "1000206     6040       562       5  956704746\n",
       "1000207     6040      1096       4  956715648\n",
       "1000208     6040      1097       4  956715569\n",
       "\n",
       "[836478 rows x 4 columns]"
      ]
     },
     "execution_count": 26,
     "metadata": {},
     "output_type": "execute_result"
    }
   ],
   "source": [
    "ratings"
   ]
  },
  {
   "cell_type": "code",
   "execution_count": 9,
   "metadata": {},
   "outputs": [
    {
     "data": {
      "text/html": [
       "<div>\n",
       "<style scoped>\n",
       "    .dataframe tbody tr th:only-of-type {\n",
       "        vertical-align: middle;\n",
       "    }\n",
       "\n",
       "    .dataframe tbody tr th {\n",
       "        vertical-align: top;\n",
       "    }\n",
       "\n",
       "    .dataframe thead th {\n",
       "        text-align: right;\n",
       "    }\n",
       "</style>\n",
       "<table border=\"1\" class=\"dataframe\">\n",
       "  <thead>\n",
       "    <tr style=\"text-align: right;\">\n",
       "      <th></th>\n",
       "      <th>movie_id</th>\n",
       "      <th>title</th>\n",
       "      <th>genre</th>\n",
       "    </tr>\n",
       "  </thead>\n",
       "  <tbody>\n",
       "    <tr>\n",
       "      <th>0</th>\n",
       "      <td>1</td>\n",
       "      <td>Toy Story (1995)</td>\n",
       "      <td>Animation|Children's|Comedy</td>\n",
       "    </tr>\n",
       "    <tr>\n",
       "      <th>1</th>\n",
       "      <td>2</td>\n",
       "      <td>Jumanji (1995)</td>\n",
       "      <td>Adventure|Children's|Fantasy</td>\n",
       "    </tr>\n",
       "    <tr>\n",
       "      <th>2</th>\n",
       "      <td>3</td>\n",
       "      <td>Grumpier Old Men (1995)</td>\n",
       "      <td>Comedy|Romance</td>\n",
       "    </tr>\n",
       "    <tr>\n",
       "      <th>3</th>\n",
       "      <td>4</td>\n",
       "      <td>Waiting to Exhale (1995)</td>\n",
       "      <td>Comedy|Drama</td>\n",
       "    </tr>\n",
       "    <tr>\n",
       "      <th>4</th>\n",
       "      <td>5</td>\n",
       "      <td>Father of the Bride Part II (1995)</td>\n",
       "      <td>Comedy</td>\n",
       "    </tr>\n",
       "  </tbody>\n",
       "</table>\n",
       "</div>"
      ],
      "text/plain": [
       "   movie_id                               title                         genre\n",
       "0         1                    Toy Story (1995)   Animation|Children's|Comedy\n",
       "1         2                      Jumanji (1995)  Adventure|Children's|Fantasy\n",
       "2         3             Grumpier Old Men (1995)                Comedy|Romance\n",
       "3         4            Waiting to Exhale (1995)                  Comedy|Drama\n",
       "4         5  Father of the Bride Part II (1995)                        Comedy"
      ]
     },
     "execution_count": 9,
     "metadata": {},
     "output_type": "execute_result"
    }
   ],
   "source": [
    "# 영화 제목을 보기 위해 메타 데이터를 읽어옵니다.\n",
    "movie_file_path=os.getenv('HOME') + '/aiffel/recommendata_iu/data/ml-1m/movies.dat'\n",
    "cols = ['movie_id', 'title', 'genre'] \n",
    "movies = pd.read_csv(movie_file_path, sep='::', names=cols, engine='python', encoding='ISO-8859-1')\n",
    "movies.head()"
   ]
  },
  {
   "cell_type": "code",
   "execution_count": 40,
   "metadata": {},
   "outputs": [
    {
     "data": {
      "text/plain": [
       "<6041x3953 sparse matrix of type '<class 'numpy.int64'>'\n",
       "\twith 836478 stored elements in Compressed Sparse Row format>"
      ]
     },
     "execution_count": 40,
     "metadata": {},
     "output_type": "execute_result"
    }
   ],
   "source": [
    "from scipy.sparse import csr_matrix\n",
    "\n",
    "num_user = ratings['user_id'].max() + 1\n",
    "num_movie = ratings['movie_id'].max() + 1\n",
    "\n",
    "csr_data = csr_matrix((ratings.counts, (ratings.user_id, ratings.movie_id)), shape= (num_user, num_movie))\n",
    "csr_data"
   ]
  },
  {
   "cell_type": "code",
   "execution_count": 41,
   "metadata": {},
   "outputs": [],
   "source": [
    "from implicit.als import AlternatingLeastSquares\n",
    "import os\n",
    "import numpy as np\n",
    "\n",
    "os.environ['OPENBLAS_NUM_THREADS']='1'\n",
    "os.environ['KMP_DUPLICATE_LIB_OK']='True'\n",
    "os.environ['MKL_NUM_THREADS']='1'"
   ]
  },
  {
   "cell_type": "code",
   "execution_count": 42,
   "metadata": {},
   "outputs": [],
   "source": [
    "# Implicit AlternatingLeastSquares 모델의 선언\n",
    "als_model = AlternatingLeastSquares(factors=100, regularization=0.01, use_gpu=False, iterations=15, dtype=np.float32)"
   ]
  },
  {
   "cell_type": "code",
   "execution_count": 43,
   "metadata": {},
   "outputs": [
    {
     "data": {
      "text/plain": [
       "<3953x6041 sparse matrix of type '<class 'numpy.int64'>'\n",
       "\twith 836478 stored elements in Compressed Sparse Column format>"
      ]
     },
     "execution_count": 43,
     "metadata": {},
     "output_type": "execute_result"
    }
   ],
   "source": [
    "# als 모델은 input으로 (item X user 꼴의 matrix를 받기 때문에 Transpose해줍니다.)\n",
    "csr_data_transpose = csr_data.T\n",
    "csr_data_transpose"
   ]
  },
  {
   "attachments": {},
   "cell_type": "markdown",
   "metadata": {},
   "source": [
    "## 모델 학습"
   ]
  },
  {
   "cell_type": "code",
   "execution_count": 44,
   "metadata": {},
   "outputs": [
    {
     "data": {
      "application/vnd.jupyter.widget-view+json": {
       "model_id": "87ab1166fbee44ac83f05cebe3142952",
       "version_major": 2,
       "version_minor": 0
      },
      "text/plain": [
       "  0%|          | 0/15 [00:00<?, ?it/s]"
      ]
     },
     "metadata": {},
     "output_type": "display_data"
    }
   ],
   "source": [
    "# 모델 훈련\n",
    "als_model.fit(csr_data_transpose)"
   ]
  },
  {
   "cell_type": "code",
   "execution_count": 45,
   "metadata": {},
   "outputs": [
    {
     "name": "stdout",
     "output_type": "stream",
     "text": [
      "슝=3\n"
     ]
    }
   ],
   "source": [
    "user1_vector, toy_story_vector = als_model.user_factors[1], als_model.item_factors[1]"
   ]
  },
  {
   "cell_type": "code",
   "execution_count": 46,
   "metadata": {},
   "outputs": [
    {
     "data": {
      "text/plain": [
       "array([-0.6139967 ,  1.2662429 ,  0.3964201 ,  0.37509346, -0.48948687,\n",
       "       -1.5260522 ,  1.6581547 ,  0.46468788, -0.531208  , -0.8403216 ,\n",
       "       -3.1204972 ,  1.554016  , -0.21398914, -0.6820759 ,  0.8435321 ,\n",
       "       -2.4634304 , -0.06328645, -2.4341068 ,  1.0405439 , -1.1872238 ,\n",
       "        0.549266  ,  0.7418129 , -0.6704238 ,  1.1972985 , -0.72698647,\n",
       "       -0.02144951, -0.72788686,  0.09332278, -0.9894771 ,  2.7587578 ,\n",
       "       -3.112682  ,  1.516209  ,  0.9464694 , -1.8118715 , -3.1407664 ,\n",
       "       -0.44259694,  1.3809568 ,  0.37579858,  1.7874764 , -0.01386982,\n",
       "        0.5660911 , -0.02640108, -1.8046908 ,  1.0638103 ,  2.2211494 ,\n",
       "       -0.12774628,  2.0575616 ,  0.64689237, -0.05507768, -0.10672973,\n",
       "        1.0863272 ,  0.719922  ,  0.20921569,  0.6165476 , -0.12590647,\n",
       "       -1.0960401 , -0.5615411 , -0.43465105,  1.3450342 , -0.7997159 ,\n",
       "       -1.4195479 ,  1.302099  ,  0.42988026,  2.0024588 , -1.1580858 ,\n",
       "       -1.4472017 ,  1.6273243 ,  0.6826957 ,  0.5635984 ,  1.7418084 ,\n",
       "        0.6578796 , -0.08589653, -1.5498194 , -0.21747957,  0.21616994,\n",
       "       -0.42174888,  1.8620919 ,  0.394516  , -0.4387079 , -2.0248132 ,\n",
       "       -0.78566027,  1.4129169 ,  1.2247031 , -0.3218622 ,  1.2383045 ,\n",
       "        0.8770145 ,  0.5634452 ,  2.7297153 ,  2.2933412 , -0.7378135 ,\n",
       "       -1.7060021 ,  0.9511256 , -0.09869051,  0.06038792, -0.27524447,\n",
       "        2.0398953 , -1.7479163 ,  2.832254  ,  0.00935958, -0.578572  ],\n",
       "      dtype=float32)"
      ]
     },
     "execution_count": 46,
     "metadata": {},
     "output_type": "execute_result"
    }
   ],
   "source": [
    "user1_vector"
   ]
  },
  {
   "cell_type": "code",
   "execution_count": 47,
   "metadata": {},
   "outputs": [
    {
     "data": {
      "text/plain": [
       "array([-5.65902749e-03, -5.04862331e-03,  2.78998800e-02, -2.60457426e-04,\n",
       "        3.44134271e-02,  3.92439067e-02, -2.10888386e-02, -4.22189012e-03,\n",
       "        1.56075554e-02, -5.87280747e-03, -1.77517291e-02,  2.32057329e-02,\n",
       "        5.06772287e-03,  1.19405491e-02,  3.35058644e-02, -2.85080099e-03,\n",
       "        9.80758294e-03, -6.75578089e-03,  1.07590500e-02, -7.36257061e-03,\n",
       "        1.36834709e-02,  2.27084998e-02, -3.71667072e-02, -3.14338598e-03,\n",
       "       -2.57714326e-03,  1.48251411e-02,  1.66983567e-02,  2.12091269e-04,\n",
       "       -2.50332849e-03,  3.64856794e-02, -6.22806977e-03,  3.87108363e-02,\n",
       "       -8.08892399e-03, -2.45942604e-02, -1.22535266e-02,  8.62705614e-03,\n",
       "       -9.85500123e-03,  1.52726127e-02,  8.17087479e-03,  5.45446936e-04,\n",
       "        1.84281101e-03, -1.32058822e-02, -6.15353370e-03, -2.35753972e-02,\n",
       "        4.43009511e-02,  1.56514961e-02,  4.15489115e-02,  2.36965697e-02,\n",
       "        6.97480422e-03, -1.07568048e-03, -1.56871416e-02,  2.91356947e-02,\n",
       "       -8.07427056e-03,  8.29793233e-03, -2.70346142e-02, -1.39552895e-02,\n",
       "        7.53701804e-03, -1.59163564e-03, -2.91645881e-02,  2.37164199e-02,\n",
       "       -5.29782008e-03,  1.14037385e-02, -1.19160647e-02,  1.56738691e-03,\n",
       "       -1.02817686e-02,  3.07666343e-02,  2.22668815e-02,  1.42459408e-03,\n",
       "        2.15665009e-02,  3.29300426e-02,  2.60369666e-02, -1.10585552e-05,\n",
       "       -1.19021870e-02,  1.14416098e-02, -7.70117668e-03, -1.75980758e-03,\n",
       "        3.60502414e-02, -2.66934454e-04, -2.35603210e-02, -1.14986878e-02,\n",
       "       -1.74592435e-02,  1.39233023e-02,  2.69226711e-02, -2.77299155e-02,\n",
       "        1.91871617e-02, -2.67420113e-02,  3.27105485e-02,  2.79672407e-02,\n",
       "        2.54184660e-02, -1.42684933e-02,  7.53094768e-03,  2.27792114e-02,\n",
       "       -2.74833874e-03, -3.12139913e-02, -6.17786497e-03,  1.00786453e-02,\n",
       "       -1.44311553e-02,  1.86478030e-02,  1.12304650e-03,  3.24167684e-02],\n",
       "      dtype=float32)"
      ]
     },
     "execution_count": 47,
     "metadata": {},
     "output_type": "execute_result"
    }
   ],
   "source": [
    "toy_story_vector"
   ]
  },
  {
   "cell_type": "code",
   "execution_count": 48,
   "metadata": {},
   "outputs": [
    {
     "data": {
      "text/plain": [
       "1.0426809"
      ]
     },
     "execution_count": 48,
     "metadata": {},
     "output_type": "execute_result"
    }
   ],
   "source": [
    "np.dot(user1_vector, toy_story_vector)"
   ]
  },
  {
   "attachments": {},
   "cell_type": "markdown",
   "metadata": {},
   "source": [
    "## 비슷한 영화 찾기"
   ]
  },
  {
   "cell_type": "code",
   "execution_count": 57,
   "metadata": {},
   "outputs": [
    {
     "data": {
      "text/plain": [
       "[(1, 0.9999999),\n",
       " (3114, 0.7811959),\n",
       " (2355, 0.6104324),\n",
       " (588, 0.5942017),\n",
       " (34, 0.55956805),\n",
       " (1265, 0.5363133),\n",
       " (364, 0.45662773),\n",
       " (595, 0.44064108),\n",
       " (1923, 0.4402374),\n",
       " (2321, 0.4274344),\n",
       " (356, 0.38397446),\n",
       " (2396, 0.3737098),\n",
       " (1566, 0.35113513),\n",
       " (2687, 0.34377003),\n",
       " (3253, 0.3354167)]"
      ]
     },
     "execution_count": 57,
     "metadata": {},
     "output_type": "execute_result"
    }
   ],
   "source": [
    "movie_id = 1\n",
    "similar_movie = als_model.similar_items(movie_id, N=15)\n",
    "similar_movie"
   ]
  },
  {
   "cell_type": "code",
   "execution_count": 58,
   "metadata": {},
   "outputs": [
    {
     "name": "stdout",
     "output_type": "stream",
     "text": [
      "0    Toy Story (1995)\n",
      "Name: title, dtype: object 0.9999999\n",
      "3045    Toy Story 2 (1999)\n",
      "Name: title, dtype: object 0.7811959\n",
      "2286    Bug's Life, A (1998)\n",
      "Name: title, dtype: object 0.6104324\n",
      "584    Aladdin (1992)\n",
      "Name: title, dtype: object 0.5942017\n",
      "33    Babe (1995)\n",
      "Name: title, dtype: object 0.55956805\n",
      "1245    Groundhog Day (1993)\n",
      "Name: title, dtype: object 0.5363133\n",
      "360    Lion King, The (1994)\n",
      "Name: title, dtype: object 0.45662773\n",
      "591    Beauty and the Beast (1991)\n",
      "Name: title, dtype: object 0.44064108\n",
      "1854    There's Something About Mary (1998)\n",
      "Name: title, dtype: object 0.4402374\n",
      "2252    Pleasantville (1998)\n",
      "Name: title, dtype: object 0.4274344\n",
      "352    Forrest Gump (1994)\n",
      "Name: title, dtype: object 0.38397446\n",
      "2327    Shakespeare in Love (1998)\n",
      "Name: title, dtype: object 0.3737098\n",
      "1526    Hercules (1997)\n",
      "Name: title, dtype: object 0.35113513\n",
      "2618    Tarzan (1999)\n",
      "Name: title, dtype: object 0.34377003\n",
      "3184    Wayne's World (1992)\n",
      "Name: title, dtype: object 0.3354167\n"
     ]
    }
   ],
   "source": [
    "for id,sim in similar_movie:\n",
    "    name = movies[movies['movie_id'] == id]['title']\n",
    "    print(name,sim) "
   ]
  },
  {
   "attachments": {},
   "cell_type": "markdown",
   "metadata": {},
   "source": [
    "## 유저에게 아티스트 추천하기"
   ]
  },
  {
   "cell_type": "code",
   "execution_count": 60,
   "metadata": {},
   "outputs": [
    {
     "data": {
      "text/plain": [
       "[(364, 0.9941819),\n",
       " (318, 0.8516393),\n",
       " (1282, 0.8361454),\n",
       " (1225, 0.7929288),\n",
       " (2081, 0.7607373),\n",
       " (2078, 0.7534429),\n",
       " (2858, 0.72022706),\n",
       " (1704, 0.70363724),\n",
       " (2096, 0.6897839),\n",
       " (34, 0.67700446),\n",
       " (596, 0.6700983),\n",
       " (110, 0.6424839),\n",
       " (2087, 0.6303146),\n",
       " (593, 0.61390173),\n",
       " (3751, 0.60175186),\n",
       " (1198, 0.58576113),\n",
       " (1032, 0.5829715),\n",
       " (1196, 0.5714934),\n",
       " (2137, 0.57134604),\n",
       " (1259, 0.5679973)]"
      ]
     },
     "execution_count": 60,
     "metadata": {},
     "output_type": "execute_result"
    }
   ],
   "source": [
    "user = 1\n",
    "# recommend에서는 user*item CSR Matrix를 받습니다.\n",
    "movie_recommended = als_model.recommend(user, csr_data, N=20, filter_already_liked_items=True)\n",
    "movie_recommended"
   ]
  },
  {
   "cell_type": "code",
   "execution_count": 61,
   "metadata": {},
   "outputs": [
    {
     "name": "stdout",
     "output_type": "stream",
     "text": [
      "360    Lion King, The (1994)\n",
      "Name: title, dtype: object 0.9941819\n",
      "315    Shawshank Redemption, The (1994)\n",
      "Name: title, dtype: object 0.8516393\n",
      "1262    Fantasia (1940)\n",
      "Name: title, dtype: object 0.8361454\n",
      "1207    Amadeus (1984)\n",
      "Name: title, dtype: object 0.7929288\n",
      "2012    Little Mermaid, The (1989)\n",
      "Name: title, dtype: object 0.7607373\n",
      "2009    Jungle Book, The (1967)\n",
      "Name: title, dtype: object 0.7534429\n",
      "2789    American Beauty (1999)\n",
      "Name: title, dtype: object 0.72022706\n",
      "1656    Good Will Hunting (1997)\n",
      "Name: title, dtype: object 0.70363724\n",
      "2027    Sleeping Beauty (1959)\n",
      "Name: title, dtype: object 0.6897839\n",
      "33    Babe (1995)\n",
      "Name: title, dtype: object 0.67700446\n",
      "592    Pinocchio (1940)\n",
      "Name: title, dtype: object 0.6700983\n",
      "108    Braveheart (1995)\n",
      "Name: title, dtype: object 0.6424839\n",
      "2018    Peter Pan (1953)\n",
      "Name: title, dtype: object 0.6303146\n",
      "589    Silence of the Lambs, The (1991)\n",
      "Name: title, dtype: object 0.61390173\n",
      "3682    Chicken Run (2000)\n",
      "Name: title, dtype: object 0.60175186\n",
      "1180    Raiders of the Lost Ark (1981)\n",
      "Name: title, dtype: object 0.58576113\n",
      "1019    Alice in Wonderland (1951)\n",
      "Name: title, dtype: object 0.5829715\n",
      "1178    Star Wars: Episode V - The Empire Strikes Back...\n",
      "Name: title, dtype: object 0.5714934\n",
      "2068    Charlotte's Web (1973)\n",
      "Name: title, dtype: object 0.57134604\n",
      "1239    Stand by Me (1986)\n",
      "Name: title, dtype: object 0.5679973\n"
     ]
    }
   ],
   "source": [
    "for id,sim in movie_recommended:\n",
    "    name = movies[movies['movie_id'] == id]['title']\n",
    "    print(name,sim) "
   ]
  },
  {
   "cell_type": "code",
   "execution_count": null,
   "metadata": {},
   "outputs": [],
   "source": []
  }
 ],
 "metadata": {
  "kernelspec": {
   "display_name": "base",
   "language": "python",
   "name": "python3"
  },
  "language_info": {
   "codemirror_mode": {
    "name": "ipython",
    "version": 3
   },
   "file_extension": ".py",
   "mimetype": "text/x-python",
   "name": "python",
   "nbconvert_exporter": "python",
   "pygments_lexer": "ipython3",
   "version": "3.9.7"
  },
  "orig_nbformat": 4,
  "vscode": {
   "interpreter": {
    "hash": "d4d1e4263499bec80672ea0156c357c1ee493ec2b1c70f0acce89fc37c4a6abe"
   }
  }
 },
 "nbformat": 4,
 "nbformat_minor": 2
}
