{
 "cells": [
  {
   "cell_type": "code",
   "execution_count": 1,
   "metadata": {},
   "outputs": [
    {
     "name": "stdout",
     "output_type": "stream",
     "text": [
      "1.3.3\n",
      "0.5.2\n",
      "4.1.2\n"
     ]
    }
   ],
   "source": [
    "import pandas\n",
    "import konlpy\n",
    "import gensim\n",
    "\n",
    "print(pandas.__version__)\n",
    "print(konlpy.__version__)\n",
    "print(gensim.__version__)"
   ]
  },
  {
   "cell_type": "code",
   "execution_count": 2,
   "metadata": {},
   "outputs": [
    {
     "data": {
      "text/html": [
       "<div>\n",
       "<style scoped>\n",
       "    .dataframe tbody tr th:only-of-type {\n",
       "        vertical-align: middle;\n",
       "    }\n",
       "\n",
       "    .dataframe tbody tr th {\n",
       "        vertical-align: top;\n",
       "    }\n",
       "\n",
       "    .dataframe thead th {\n",
       "        text-align: right;\n",
       "    }\n",
       "</style>\n",
       "<table border=\"1\" class=\"dataframe\">\n",
       "  <thead>\n",
       "    <tr style=\"text-align: right;\">\n",
       "      <th></th>\n",
       "      <th>id</th>\n",
       "      <th>document</th>\n",
       "      <th>label</th>\n",
       "    </tr>\n",
       "  </thead>\n",
       "  <tbody>\n",
       "    <tr>\n",
       "      <th>0</th>\n",
       "      <td>9976970</td>\n",
       "      <td>아 더빙.. 진짜 짜증나네요 목소리</td>\n",
       "      <td>0</td>\n",
       "    </tr>\n",
       "    <tr>\n",
       "      <th>1</th>\n",
       "      <td>3819312</td>\n",
       "      <td>흠...포스터보고 초딩영화줄....오버연기조차 가볍지 않구나</td>\n",
       "      <td>1</td>\n",
       "    </tr>\n",
       "    <tr>\n",
       "      <th>2</th>\n",
       "      <td>10265843</td>\n",
       "      <td>너무재밓었다그래서보는것을추천한다</td>\n",
       "      <td>0</td>\n",
       "    </tr>\n",
       "    <tr>\n",
       "      <th>3</th>\n",
       "      <td>9045019</td>\n",
       "      <td>교도소 이야기구먼 ..솔직히 재미는 없다..평점 조정</td>\n",
       "      <td>0</td>\n",
       "    </tr>\n",
       "    <tr>\n",
       "      <th>4</th>\n",
       "      <td>6483659</td>\n",
       "      <td>사이몬페그의 익살스런 연기가 돋보였던 영화!스파이더맨에서 늙어보이기만 했던 커스틴 ...</td>\n",
       "      <td>1</td>\n",
       "    </tr>\n",
       "  </tbody>\n",
       "</table>\n",
       "</div>"
      ],
      "text/plain": [
       "         id                                           document  label\n",
       "0   9976970                                아 더빙.. 진짜 짜증나네요 목소리      0\n",
       "1   3819312                  흠...포스터보고 초딩영화줄....오버연기조차 가볍지 않구나      1\n",
       "2  10265843                                  너무재밓었다그래서보는것을추천한다      0\n",
       "3   9045019                      교도소 이야기구먼 ..솔직히 재미는 없다..평점 조정      0\n",
       "4   6483659  사이몬페그의 익살스런 연기가 돋보였던 영화!스파이더맨에서 늙어보이기만 했던 커스틴 ...      1"
      ]
     },
     "execution_count": 2,
     "metadata": {},
     "output_type": "execute_result"
    }
   ],
   "source": [
    "import pandas as pd\n",
    "\n",
    "# 데이터를 읽어봅시다. \n",
    "train_data = pd.read_table('ratings_train.txt')\n",
    "test_data = pd.read_table('ratings_test.txt')\n",
    "\n",
    "train_data.head()"
   ]
  },
  {
   "cell_type": "code",
   "execution_count": 9,
   "metadata": {},
   "outputs": [],
   "source": [
    "from konlpy.tag import Mecab\n",
    "import numpy as np\n",
    "from collections import Counter\n",
    "\n",
    "tokenizer = Mecab()\n",
    "stopwords = ['의','가','이','은','들','는','좀','잘','걍','과','도','를','으로','자','에','와','한','하다']\n",
    "\n",
    "def load_data(train_data, test_data, num_words=15000):\n",
    "  # 데이터 전처리(가공)후에 다시 train, test 데이터로 나눠주기 위해 원래 train_data의 크기를 기억\n",
    "  len_train = len(train_data)\n",
    "  \n",
    "  all_data = pd.concat([train_data, test_data], axis=0, ignore_index = True)\n",
    "  # 중복치와 결측치 제거\n",
    "  all_data = all_data.drop_duplicates('document', keep='first')\n",
    "  all_data = all_data.dropna(axis=0)\n",
    "  \n",
    "  # 후기 문장들을 sentence_list에 list로 저장\n",
    "  sentence_list = list(all_data['document'])\n",
    "  # 형태소로 나눈 문장들을 리스트에 따로 저장\n",
    "  token_list = []\n",
    "  for sentence in sentence_list:\n",
    "    tokenize_sentence = tokenizer.morphs(sentence)\n",
    "    tokenize_sentence = [word for word in tokenize_sentence if word not in stopwords] # 불용어 제거\n",
    "    token_list.append(tokenize_sentence)\n",
    "  # 토큰화한 문장들을 train, test로 나눠줌\n",
    "  x_train = token_list[:len_train]\n",
    "  x_test = token_list[len_train:]\n",
    "  \n",
    "  words = np.concatenate(x_train).tolist()\n",
    "  counter = Counter(words)\n",
    "  counter = counter.most_common(15000 - 4) # <pad>, <bos>, <unk>, <unused> 토큰을 추가해야하기 때문에 4개를 빼줌\n",
    "  vocab = ['<PAD>', '<BOS>', '<UNK>', '<UNUSED>'] + [key for key, _ in counter]\n",
    "  \n",
    "  word2index = {word : index for index, word in enumerate(vocab)} # 단어를 정수 인덱스로 바꿔줌\n",
    "  \n",
    "  def wordlist_to_indexlist(wordlist):\n",
    "    return [word2index[word] if word in word2index else word2index['<UNK>'] for word in wordlist]\n",
    "  \n",
    "  x_train_index = list(map(wordlist_to_indexlist, x_train))\n",
    "  x_test_index = list(map(wordlist_to_indexlist, x_test))\n",
    "  \n",
    "  return x_train_index, np.array(list(all_data['label'][:len_train])), x_test_index, np.array(list(all_data['label'][len_train:])), word2index, x_train, x_test\n",
    "  \n",
    "x_train, y_train, x_test, y_test, word2index, x_train_word, x_test_word = load_data(train_data, test_data)\n",
    "index2word = {index : word for word, index in word2index.items()}"
   ]
  },
  {
   "cell_type": "code",
   "execution_count": 10,
   "metadata": {},
   "outputs": [],
   "source": [
    "# 문장 1개를 활용할 딕셔너리와 함께 주면, 단어 인덱스 리스트 벡터로 변환해 주는 함수입니다. \n",
    "# 단, 모든 문장은 <BOS>로 시작하는 것으로 합니다. \n",
    "def get_encoded_sentence(sentence, word_to_index):\n",
    "    return [word_to_index['<BOS>']]+[word_to_index[word] if word in word_to_index else word_to_index['<UNK>'] for word in sentence.split()]\n",
    "\n",
    "# 여러 개의 문장 리스트를 한꺼번에 단어 인덱스 리스트 벡터로 encode해 주는 함수입니다. \n",
    "def get_encoded_sentences(sentences, word_to_index):\n",
    "    return [get_encoded_sentence(sentence, word_to_index) for sentence in sentences]\n",
    "\n",
    "# 숫자 벡터로 encode된 문장을 원래대로 decode하는 함수입니다. \n",
    "def get_decoded_sentence(encoded_sentence, index_to_word):\n",
    "    return ' '.join(index_to_word[index] if index in index_to_word else '<UNK>' for index in encoded_sentence[1:])  #[1:]를 통해 <BOS>를 제외\n",
    "\n",
    "# 여러 개의 숫자 벡터로 encode된 문장을 한꺼번에 원래대로 decode하는 함수입니다. \n",
    "def get_decoded_sentences(encoded_sentences, index_to_word):\n",
    "    return [get_decoded_sentence(encoded_sentence, index_to_word) for encoded_sentence in encoded_sentences]"
   ]
  },
  {
   "cell_type": "code",
   "execution_count": 11,
   "metadata": {},
   "outputs": [
    {
     "name": "stdout",
     "output_type": "stream",
     "text": [
      "문장길이 평균 :  16.0182376132783\n",
      "문장길이 최대 :  116\n",
      "문장길이 표준편차 :  12.842655296434431\n",
      "pad_sequences maxlen :  41\n",
      "전체 문장의 0.9340557100486782%가 maxlen 설정값 이내에 포함됩니다. \n"
     ]
    }
   ],
   "source": [
    "total_data_text = list(x_train) + list(x_test)\n",
    "\n",
    "# 텍스트데이터 문장길이의 리스트를 생성\n",
    "num_tokens = [len(tokens) for tokens in total_data_text]\n",
    "num_tokens = np.array(num_tokens)\n",
    "\n",
    "# 문장길이의 평균값, 최대값, 표준편차를 계산\n",
    "print('문장길이 평균 : ', np.mean(num_tokens))\n",
    "print('문장길이 최대 : ', np.max(num_tokens))\n",
    "print('문장길이 표준편차 : ', np.std(num_tokens))\n",
    "\n",
    "# 최대 길이를 (평균 + 2 * 표준편차) 로 한다면 남는 문장의 비율은?\n",
    "max_tokens = np.mean(num_tokens) + 2 * np.std(num_tokens)\n",
    "maxlen = int(max_tokens)\n",
    "print('pad_sequences maxlen : ', maxlen)\n",
    "print('전체 문장의 {}%가 maxlen 설정값 이내에 포함됩니다. '.format(np.sum(num_tokens < max_tokens) / len(num_tokens)))"
   ]
  },
  {
   "cell_type": "code",
   "execution_count": 12,
   "metadata": {},
   "outputs": [
    {
     "name": "stdout",
     "output_type": "stream",
     "text": [
      "(150000, 41)\n"
     ]
    }
   ],
   "source": [
    "import tensorflow as tf\n",
    "\n",
    "# 문장의 마지막 입력이 최종 state에 영향을 가장 크게 미치기 때문에 패딩 적용은 pre(앞쪽)으로 해줍니다.\n",
    "x_train = tf.keras.preprocessing.sequence.pad_sequences(x_train,\n",
    "                                                        value=word2index['<PAD>'],\n",
    "                                                        padding = 'pre',\n",
    "                                                        maxlen = maxlen)\n",
    " \n",
    "\n",
    "x_test = tf.keras.preprocessing.sequence.pad_sequences(x_test,\n",
    "                                                       value=word2index[\"<PAD>\"],\n",
    "                                                       padding='pre',\n",
    "                                                       maxlen=maxlen)\n",
    "\n",
    "print(x_train.shape)"
   ]
  },
  {
   "cell_type": "code",
   "execution_count": 13,
   "metadata": {},
   "outputs": [
    {
     "name": "stdout",
     "output_type": "stream",
     "text": [
      "(135000, 41) (135000,)\n"
     ]
    }
   ],
   "source": [
    "val_x = x_train[:15000]\n",
    "val_y = y_train[:15000]\n",
    "\n",
    "x_train = x_train[15000:]\n",
    "y_train = y_train[15000:]\n",
    "\n",
    "print(x_train.shape, y_train.shape)"
   ]
  },
  {
   "attachments": {},
   "cell_type": "markdown",
   "metadata": {},
   "source": [
    "# 1D CNN"
   ]
  },
  {
   "cell_type": "code",
   "execution_count": 8,
   "metadata": {},
   "outputs": [
    {
     "name": "stdout",
     "output_type": "stream",
     "text": [
      "Model: \"sequential\"\n",
      "_________________________________________________________________\n",
      "Layer (type)                 Output Shape              Param #   \n",
      "=================================================================\n",
      "embedding (Embedding)        (None, None, 100)         1500000   \n",
      "_________________________________________________________________\n",
      "conv1d (Conv1D)              (None, None, 16)          11216     \n",
      "_________________________________________________________________\n",
      "max_pooling1d (MaxPooling1D) (None, None, 16)          0         \n",
      "_________________________________________________________________\n",
      "conv1d_1 (Conv1D)            (None, None, 16)          1808      \n",
      "_________________________________________________________________\n",
      "global_max_pooling1d (Global (None, 16)                0         \n",
      "_________________________________________________________________\n",
      "dense (Dense)                (None, 8)                 136       \n",
      "_________________________________________________________________\n",
      "dense_1 (Dense)              (None, 1)                 9         \n",
      "=================================================================\n",
      "Total params: 1,513,169\n",
      "Trainable params: 1,513,169\n",
      "Non-trainable params: 0\n",
      "_________________________________________________________________\n"
     ]
    }
   ],
   "source": [
    "vocab_size = 15000  # 어휘 사전의 크기입니다(10개의 단어)\n",
    "word_vector_dim = 100   # 단어 하나를 표현하는 임베딩 벡터의 차원 수입니다. \n",
    "\n",
    "model = tf.keras.Sequential()\n",
    "model.add(tf.keras.layers.Embedding(vocab_size, word_vector_dim, input_shape=(None,)))\n",
    "model.add(tf.keras.layers.Conv1D(16, 7, activation='relu'))\n",
    "model.add(tf.keras.layers.MaxPooling1D(5))\n",
    "model.add(tf.keras.layers.Conv1D(16, 7, activation='relu'))\n",
    "model.add(tf.keras.layers.GlobalMaxPooling1D())\n",
    "model.add(tf.keras.layers.Dense(8, activation='relu'))\n",
    "model.add(tf.keras.layers.Dense(1, activation='sigmoid'))  # 최종 출력은 긍정/부정을 나타내는 1dim 입니다.\n",
    "\n",
    "model.summary()"
   ]
  },
  {
   "cell_type": "code",
   "execution_count": 9,
   "metadata": {},
   "outputs": [
    {
     "name": "stdout",
     "output_type": "stream",
     "text": [
      "Epoch 1/20\n",
      "264/264 [==============================] - 5s 7ms/step - loss: 0.4392 - accuracy: 0.7917 - val_loss: 0.3315 - val_accuracy: 0.8548\n",
      "Epoch 2/20\n",
      "264/264 [==============================] - 1s 5ms/step - loss: 0.2921 - accuracy: 0.8778 - val_loss: 0.3239 - val_accuracy: 0.8605\n",
      "Epoch 3/20\n",
      "264/264 [==============================] - 1s 5ms/step - loss: 0.2290 - accuracy: 0.9098 - val_loss: 0.3388 - val_accuracy: 0.8586\n",
      "Epoch 4/20\n",
      "264/264 [==============================] - 1s 5ms/step - loss: 0.1620 - accuracy: 0.9401 - val_loss: 0.3871 - val_accuracy: 0.8526\n",
      "Epoch 5/20\n",
      "264/264 [==============================] - 1s 5ms/step - loss: 0.1054 - accuracy: 0.9645 - val_loss: 0.4572 - val_accuracy: 0.8481\n",
      "Epoch 6/20\n",
      "264/264 [==============================] - 1s 5ms/step - loss: 0.0694 - accuracy: 0.9780 - val_loss: 0.5305 - val_accuracy: 0.8447\n",
      "Epoch 7/20\n",
      "264/264 [==============================] - 1s 5ms/step - loss: 0.0481 - accuracy: 0.9859 - val_loss: 0.5850 - val_accuracy: 0.8410\n",
      "Epoch 8/20\n",
      "264/264 [==============================] - 1s 5ms/step - loss: 0.0351 - accuracy: 0.9898 - val_loss: 0.6685 - val_accuracy: 0.8390\n",
      "Epoch 9/20\n",
      "264/264 [==============================] - 1s 5ms/step - loss: 0.0275 - accuracy: 0.9921 - val_loss: 0.7376 - val_accuracy: 0.8411\n",
      "Epoch 10/20\n",
      "264/264 [==============================] - 1s 5ms/step - loss: 0.0227 - accuracy: 0.9934 - val_loss: 0.8081 - val_accuracy: 0.8375\n",
      "Epoch 11/20\n",
      "264/264 [==============================] - 1s 5ms/step - loss: 0.0200 - accuracy: 0.9939 - val_loss: 0.8310 - val_accuracy: 0.8371\n",
      "Epoch 12/20\n",
      "264/264 [==============================] - 1s 5ms/step - loss: 0.0196 - accuracy: 0.9939 - val_loss: 0.9116 - val_accuracy: 0.8344\n",
      "Epoch 13/20\n",
      "264/264 [==============================] - 1s 5ms/step - loss: 0.0189 - accuracy: 0.9940 - val_loss: 0.8926 - val_accuracy: 0.8352\n",
      "Epoch 14/20\n",
      "264/264 [==============================] - 1s 5ms/step - loss: 0.0212 - accuracy: 0.9928 - val_loss: 1.0098 - val_accuracy: 0.8306\n",
      "Epoch 15/20\n",
      "264/264 [==============================] - 1s 5ms/step - loss: 0.0275 - accuracy: 0.9905 - val_loss: 0.9439 - val_accuracy: 0.8312\n",
      "Epoch 16/20\n",
      "264/264 [==============================] - 1s 5ms/step - loss: 0.0233 - accuracy: 0.9919 - val_loss: 0.9748 - val_accuracy: 0.8347\n",
      "Epoch 17/20\n",
      "264/264 [==============================] - 1s 5ms/step - loss: 0.0157 - accuracy: 0.9949 - val_loss: 1.0116 - val_accuracy: 0.8326\n",
      "Epoch 18/20\n",
      "264/264 [==============================] - 1s 5ms/step - loss: 0.0113 - accuracy: 0.9965 - val_loss: 1.0610 - val_accuracy: 0.8343\n",
      "Epoch 19/20\n",
      "264/264 [==============================] - 1s 5ms/step - loss: 0.0103 - accuracy: 0.9967 - val_loss: 1.1042 - val_accuracy: 0.8313\n",
      "Epoch 20/20\n",
      "264/264 [==============================] - 1s 5ms/step - loss: 0.0100 - accuracy: 0.9967 - val_loss: 1.1081 - val_accuracy: 0.8323\n"
     ]
    }
   ],
   "source": [
    "model.compile(optimizer='adam',\n",
    "              loss='binary_crossentropy',\n",
    "              metrics=['accuracy'])\n",
    "              \n",
    "epochs=20  # 몇 epoch를 훈련하면 좋을지 결과를 보면서 바꾸어 봅시다. \n",
    "\n",
    "history = model.fit(x_train,\n",
    "                    y_train,\n",
    "                    epochs=epochs,\n",
    "                    batch_size=512,\n",
    "                    validation_data=(val_x, val_y),\n",
    "                    verbose=1)"
   ]
  },
  {
   "attachments": {},
   "cell_type": "markdown",
   "metadata": {},
   "source": [
    "# 2.LSTM"
   ]
  },
  {
   "cell_type": "code",
   "execution_count": null,
   "metadata": {},
   "outputs": [],
   "source": [
    "import tensorflow as tf\n",
    "\n",
    "from tensorflow.keras.layers import Dense, Embedding, Bidirectional, LSTM\n",
    "from tensorflow.keras import optimizers, Sequential\n",
    "from tensorflow.keras.models import load_model\n",
    "from tensorflow.keras.callbacks import EarlyStopping, ModelCheckpoint"
   ]
  },
  {
   "cell_type": "code",
   "execution_count": 19,
   "metadata": {},
   "outputs": [
    {
     "name": "stdout",
     "output_type": "stream",
     "text": [
      "Model: \"sequential_6\"\n",
      "_________________________________________________________________\n",
      "Layer (type)                 Output Shape              Param #   \n",
      "=================================================================\n",
      "embedding_4 (Embedding)      (None, None, 100)         1500000   \n",
      "_________________________________________________________________\n",
      "lstm_2 (LSTM)                (None, None, 128)         117248    \n",
      "_________________________________________________________________\n",
      "dense_3 (Dense)              (None, None, 32)          4128      \n",
      "_________________________________________________________________\n",
      "lstm_3 (LSTM)                (None, None, 128)         82432     \n",
      "_________________________________________________________________\n",
      "dense_4 (Dense)              (None, None, 32)          4128      \n",
      "_________________________________________________________________\n",
      "lstm_4 (LSTM)                (None, 128)               82432     \n",
      "_________________________________________________________________\n",
      "dense_5 (Dense)              (None, 32)                4128      \n",
      "_________________________________________________________________\n",
      "dense_6 (Dense)              (None, 1)                 33        \n",
      "=================================================================\n",
      "Total params: 1,794,529\n",
      "Trainable params: 1,794,529\n",
      "Non-trainable params: 0\n",
      "_________________________________________________________________\n",
      "Model: \"sequential_5\"\n",
      "_________________________________________________________________\n",
      "Layer (type)                 Output Shape              Param #   \n",
      "=================================================================\n",
      "embedding_3 (Embedding)      (None, None, 100)         1500000   \n",
      "_________________________________________________________________\n",
      "conv1d (Conv1D)              (None, None, 16)          11216     \n",
      "_________________________________________________________________\n",
      "max_pooling1d (MaxPooling1D) (None, None, 16)          0         \n",
      "_________________________________________________________________\n",
      "conv1d_1 (Conv1D)            (None, None, 16)          1808      \n",
      "_________________________________________________________________\n",
      "global_max_pooling1d (Global (None, 16)                0         \n",
      "_________________________________________________________________\n",
      "dense_1 (Dense)              (None, 8)                 136       \n",
      "_________________________________________________________________\n",
      "dense_2 (Dense)              (None, 1)                 9         \n",
      "=================================================================\n",
      "Total params: 1,513,169\n",
      "Trainable params: 1,513,169\n",
      "Non-trainable params: 0\n",
      "_________________________________________________________________\n"
     ]
    }
   ],
   "source": [
    "vocab_size = 15000  # 어휘 사전의 크기입니다\n",
    "word_vector_dim = 100   # 단어 하나를 표현하는 임베딩 벡터의 차원 수입니다. \n",
    "\n",
    "model_lstm = tf.keras.Sequential()\n",
    "model_lstm.add(tf.keras.layers.Embedding(vocab_size, word_vector_dim, input_shape=(None,)))\n",
    "model_lstm.add(tf.keras.layers.LSTM(128, return_sequences=True))\n",
    "model_lstm.add(tf.keras.layers.Dense(32, activation='relu'))\n",
    "model_lstm.add(tf.keras.layers.LSTM(128, return_sequences=True))\n",
    "model_lstm.add(tf.keras.layers.Dense(32, activation='relu'))\n",
    "model_lstm.add(tf.keras.layers.LSTM(128))\n",
    "model_lstm.add(tf.keras.layers.Dense(32, activation='relu'))\n",
    "model_lstm.add(tf.keras.layers.Dense(1, activation='sigmoid')) # 최종 출력은 긍정/부정을 나타내는 1dim 입니다.\n",
    "model_lstm.summary()\n",
    "\n",
    "model.summary()"
   ]
  },
  {
   "cell_type": "code",
   "execution_count": 20,
   "metadata": {},
   "outputs": [
    {
     "name": "stdout",
     "output_type": "stream",
     "text": [
      "Epoch 1/20\n",
      "235/235 [==============================] - 2s 6ms/step - loss: 0.0097 - accuracy: 0.9965 - val_loss: 1.2456 - val_accuracy: 0.8300\n",
      "Epoch 2/20\n",
      "235/235 [==============================] - 1s 5ms/step - loss: 0.0097 - accuracy: 0.9962 - val_loss: 1.3100 - val_accuracy: 0.8280\n",
      "Epoch 3/20\n",
      "235/235 [==============================] - 1s 6ms/step - loss: 0.0089 - accuracy: 0.9963 - val_loss: 1.3274 - val_accuracy: 0.8305\n",
      "Epoch 4/20\n",
      "235/235 [==============================] - 1s 6ms/step - loss: 0.0092 - accuracy: 0.9965 - val_loss: 1.3809 - val_accuracy: 0.8278\n",
      "Epoch 5/20\n",
      "235/235 [==============================] - 1s 5ms/step - loss: 0.0094 - accuracy: 0.9965 - val_loss: 1.3872 - val_accuracy: 0.8267\n",
      "Epoch 6/20\n",
      "235/235 [==============================] - 1s 5ms/step - loss: 0.0083 - accuracy: 0.9967 - val_loss: 1.3700 - val_accuracy: 0.8287\n",
      "Epoch 7/20\n",
      "235/235 [==============================] - 1s 5ms/step - loss: 0.0069 - accuracy: 0.9970 - val_loss: 1.4588 - val_accuracy: 0.8277\n",
      "Epoch 8/20\n",
      "235/235 [==============================] - 1s 6ms/step - loss: 0.0059 - accuracy: 0.9976 - val_loss: 1.4705 - val_accuracy: 0.8271\n",
      "Epoch 9/20\n",
      "235/235 [==============================] - 1s 5ms/step - loss: 0.0052 - accuracy: 0.9977 - val_loss: 1.5280 - val_accuracy: 0.8302\n",
      "Epoch 10/20\n",
      "235/235 [==============================] - 1s 6ms/step - loss: 0.0053 - accuracy: 0.9978 - val_loss: 1.5436 - val_accuracy: 0.8251\n",
      "Epoch 11/20\n",
      "235/235 [==============================] - 1s 6ms/step - loss: 0.0060 - accuracy: 0.9974 - val_loss: 1.5283 - val_accuracy: 0.8269\n",
      "Epoch 12/20\n",
      "235/235 [==============================] - 1s 5ms/step - loss: 0.0077 - accuracy: 0.9970 - val_loss: 1.4903 - val_accuracy: 0.8276\n",
      "Epoch 13/20\n",
      "235/235 [==============================] - 1s 5ms/step - loss: 0.0134 - accuracy: 0.9952 - val_loss: 1.4201 - val_accuracy: 0.8267\n",
      "Epoch 14/20\n",
      "235/235 [==============================] - 1s 5ms/step - loss: 0.0121 - accuracy: 0.9954 - val_loss: 1.3261 - val_accuracy: 0.8274\n",
      "Epoch 15/20\n",
      "235/235 [==============================] - 1s 5ms/step - loss: 0.0075 - accuracy: 0.9970 - val_loss: 1.4391 - val_accuracy: 0.8313\n",
      "Epoch 16/20\n",
      "235/235 [==============================] - 1s 5ms/step - loss: 0.0055 - accuracy: 0.9978 - val_loss: 1.4859 - val_accuracy: 0.8298\n",
      "Epoch 17/20\n",
      "235/235 [==============================] - 1s 5ms/step - loss: 0.0047 - accuracy: 0.9979 - val_loss: 1.4994 - val_accuracy: 0.8292\n",
      "Epoch 18/20\n",
      "235/235 [==============================] - 1s 5ms/step - loss: 0.0044 - accuracy: 0.9982 - val_loss: 1.5071 - val_accuracy: 0.8294\n",
      "Epoch 19/20\n",
      "235/235 [==============================] - 1s 5ms/step - loss: 0.0043 - accuracy: 0.9979 - val_loss: 1.4770 - val_accuracy: 0.8303\n",
      "Epoch 20/20\n",
      "235/235 [==============================] - 1s 5ms/step - loss: 0.0043 - accuracy: 0.9980 - val_loss: 1.5160 - val_accuracy: 0.8303\n"
     ]
    }
   ],
   "source": [
    "model.compile(optimizer='adam',\n",
    "              loss='binary_crossentropy',\n",
    "              metrics=['accuracy'])\n",
    "              \n",
    "epochs=20  # 몇 epoch를 훈련하면 좋을지 결과를 보면서 바꾸어 봅시다. \n",
    "\n",
    "history = model.fit(x_train,\n",
    "                    y_train,\n",
    "                    epochs=epochs,\n",
    "                    batch_size=512,\n",
    "                    validation_data=(val_x, val_y),\n",
    "                    verbose=1)"
   ]
  },
  {
   "attachments": {},
   "cell_type": "markdown",
   "metadata": {},
   "source": [
    "# 3.GRU"
   ]
  },
  {
   "cell_type": "code",
   "execution_count": 21,
   "metadata": {},
   "outputs": [
    {
     "name": "stdout",
     "output_type": "stream",
     "text": [
      "Model: \"sequential_7\"\n",
      "_________________________________________________________________\n",
      "Layer (type)                 Output Shape              Param #   \n",
      "=================================================================\n",
      "embedding_5 (Embedding)      (None, None, 100)         1500000   \n",
      "_________________________________________________________________\n",
      "gru (GRU)                    (None, None, 128)         88320     \n",
      "_________________________________________________________________\n",
      "dense_7 (Dense)              (None, None, 32)          4128      \n",
      "_________________________________________________________________\n",
      "gru_1 (GRU)                  (None, None, 128)         62208     \n",
      "_________________________________________________________________\n",
      "dense_8 (Dense)              (None, None, 32)          4128      \n",
      "_________________________________________________________________\n",
      "gru_2 (GRU)                  (None, 128)               62208     \n",
      "_________________________________________________________________\n",
      "dense_9 (Dense)              (None, 32)                4128      \n",
      "_________________________________________________________________\n",
      "dense_10 (Dense)             (None, 1)                 33        \n",
      "=================================================================\n",
      "Total params: 1,725,153\n",
      "Trainable params: 1,725,153\n",
      "Non-trainable params: 0\n",
      "_________________________________________________________________\n",
      "Model: \"sequential_5\"\n",
      "_________________________________________________________________\n",
      "Layer (type)                 Output Shape              Param #   \n",
      "=================================================================\n",
      "embedding_3 (Embedding)      (None, None, 100)         1500000   \n",
      "_________________________________________________________________\n",
      "conv1d (Conv1D)              (None, None, 16)          11216     \n",
      "_________________________________________________________________\n",
      "max_pooling1d (MaxPooling1D) (None, None, 16)          0         \n",
      "_________________________________________________________________\n",
      "conv1d_1 (Conv1D)            (None, None, 16)          1808      \n",
      "_________________________________________________________________\n",
      "global_max_pooling1d (Global (None, 16)                0         \n",
      "_________________________________________________________________\n",
      "dense_1 (Dense)              (None, 8)                 136       \n",
      "_________________________________________________________________\n",
      "dense_2 (Dense)              (None, 1)                 9         \n",
      "=================================================================\n",
      "Total params: 1,513,169\n",
      "Trainable params: 1,513,169\n",
      "Non-trainable params: 0\n",
      "_________________________________________________________________\n"
     ]
    }
   ],
   "source": [
    "vocab_size = 15000  # 어휘 사전의 크기입니다(10개의 단어)\n",
    "word_vector_dim = 100   # 단어 하나를 표현하는 임베딩 벡터의 차원 수입니다. \n",
    "\n",
    "model_lstm = tf.keras.Sequential()\n",
    "model_lstm.add(tf.keras.layers.Embedding(vocab_size, word_vector_dim, input_shape=(None,)))\n",
    "model_lstm.add(tf.keras.layers.GRU(128, return_sequences=True))\n",
    "model_lstm.add(tf.keras.layers.Dense(32, activation='relu'))\n",
    "model_lstm.add(tf.keras.layers.GRU(128, return_sequences=True))\n",
    "model_lstm.add(tf.keras.layers.Dense(32, activation='relu'))\n",
    "model_lstm.add(tf.keras.layers.GRU(128))\n",
    "model_lstm.add(tf.keras.layers.Dense(32, activation='relu'))\n",
    "model_lstm.add(tf.keras.layers.Dense(1, activation='sigmoid')) # 최종 출력은 긍정/부정을 나타내는 1dim 입니다.\n",
    "model_lstm.summary()\n",
    "\n",
    "model.summary()"
   ]
  },
  {
   "cell_type": "code",
   "execution_count": 22,
   "metadata": {},
   "outputs": [
    {
     "name": "stdout",
     "output_type": "stream",
     "text": [
      "Epoch 1/20\n",
      "235/235 [==============================] - 2s 6ms/step - loss: 0.0058 - accuracy: 0.9975 - val_loss: 1.5425 - val_accuracy: 0.8289\n",
      "Epoch 2/20\n",
      "235/235 [==============================] - 1s 5ms/step - loss: 0.0069 - accuracy: 0.9970 - val_loss: 1.5252 - val_accuracy: 0.8324\n",
      "Epoch 3/20\n",
      "235/235 [==============================] - 1s 5ms/step - loss: 0.0060 - accuracy: 0.9974 - val_loss: 1.5741 - val_accuracy: 0.8283\n",
      "Epoch 4/20\n",
      "235/235 [==============================] - 1s 5ms/step - loss: 0.0048 - accuracy: 0.9979 - val_loss: 1.6982 - val_accuracy: 0.8242\n",
      "Epoch 5/20\n",
      "235/235 [==============================] - 1s 6ms/step - loss: 0.0053 - accuracy: 0.9977 - val_loss: 1.6522 - val_accuracy: 0.8278\n",
      "Epoch 6/20\n",
      "235/235 [==============================] - 1s 5ms/step - loss: 0.0047 - accuracy: 0.9977 - val_loss: 1.6723 - val_accuracy: 0.8310\n",
      "Epoch 7/20\n",
      "235/235 [==============================] - 1s 5ms/step - loss: 0.0047 - accuracy: 0.9979 - val_loss: 1.6637 - val_accuracy: 0.8308\n",
      "Epoch 8/20\n",
      "235/235 [==============================] - 1s 5ms/step - loss: 0.0048 - accuracy: 0.9980 - val_loss: 1.7063 - val_accuracy: 0.8264\n",
      "Epoch 9/20\n",
      "235/235 [==============================] - 1s 5ms/step - loss: 0.0044 - accuracy: 0.9980 - val_loss: 1.6932 - val_accuracy: 0.8294\n",
      "Epoch 10/20\n",
      "235/235 [==============================] - 1s 5ms/step - loss: 0.0040 - accuracy: 0.9979 - val_loss: 1.7623 - val_accuracy: 0.8280\n",
      "Epoch 11/20\n",
      "235/235 [==============================] - 1s 5ms/step - loss: 0.0037 - accuracy: 0.9985 - val_loss: 1.7725 - val_accuracy: 0.8287\n",
      "Epoch 12/20\n",
      "235/235 [==============================] - 1s 6ms/step - loss: 0.0040 - accuracy: 0.9982 - val_loss: 1.8607 - val_accuracy: 0.8272\n",
      "Epoch 13/20\n",
      "235/235 [==============================] - 1s 6ms/step - loss: 0.0090 - accuracy: 0.9964 - val_loss: 1.7209 - val_accuracy: 0.8262\n",
      "Epoch 14/20\n",
      "235/235 [==============================] - 1s 5ms/step - loss: 0.0159 - accuracy: 0.9943 - val_loss: 1.5117 - val_accuracy: 0.8272\n",
      "Epoch 15/20\n",
      "235/235 [==============================] - 1s 5ms/step - loss: 0.0073 - accuracy: 0.9968 - val_loss: 1.5215 - val_accuracy: 0.8283\n",
      "Epoch 16/20\n",
      "235/235 [==============================] - 1s 5ms/step - loss: 0.0042 - accuracy: 0.9980 - val_loss: 1.5786 - val_accuracy: 0.8269\n",
      "Epoch 17/20\n",
      "235/235 [==============================] - 1s 6ms/step - loss: 0.0037 - accuracy: 0.9982 - val_loss: 1.5912 - val_accuracy: 0.8279\n",
      "Epoch 18/20\n",
      "235/235 [==============================] - 1s 5ms/step - loss: 0.0033 - accuracy: 0.9983 - val_loss: 1.6546 - val_accuracy: 0.8271\n",
      "Epoch 19/20\n",
      "235/235 [==============================] - 1s 5ms/step - loss: 0.0033 - accuracy: 0.9983 - val_loss: 1.6486 - val_accuracy: 0.8263\n",
      "Epoch 20/20\n",
      "235/235 [==============================] - 1s 5ms/step - loss: 0.0033 - accuracy: 0.9983 - val_loss: 1.6787 - val_accuracy: 0.8257\n"
     ]
    }
   ],
   "source": [
    "model.compile(optimizer='adam',\n",
    "              loss='binary_crossentropy',\n",
    "              metrics=['accuracy'])\n",
    "              \n",
    "epochs=20  # 몇 epoch를 훈련하면 좋을지 결과를 보면서 바꾸어 봅시다. \n",
    "\n",
    "history = model.fit(x_train,\n",
    "                    y_train,\n",
    "                    epochs=epochs,\n",
    "                    batch_size=512,\n",
    "                    validation_data=(val_x, val_y),\n",
    "                    verbose=1)"
   ]
  },
  {
   "attachments": {},
   "cell_type": "markdown",
   "metadata": {},
   "source": [
    "# Gensim 활용한 유사 단어 차이 확인"
   ]
  },
  {
   "cell_type": "code",
   "execution_count": 20,
   "metadata": {},
   "outputs": [],
   "source": [
    "import matplotlib.pyplot as plt\n",
    "plt.rc('font', family='NanumBarunGothic')\n",
    "def showGraph(bargraph):\n",
    "     xtick = [item[0] for item in bargraph] # 단어\n",
    "     ytick = [item[1] for item in bargraph] # 유사도\n",
    "     plt.figure()\n",
    "     mycolors = ['#06c2ac', '#c79fef', '#ff796c', '#aaff32', '#0485d1', '#d648d7', '#a5a502', '#d8dcd6', '#5ca904', '#fffe7a' ]\n",
    "     plt.bar(xtick, ytick, color=mycolors)"
   ]
  },
  {
   "attachments": {},
   "cell_type": "markdown",
   "metadata": {},
   "source": [
    "## 리뷰데이터로 학습 후 유사도 비교"
   ]
  },
  {
   "cell_type": "code",
   "execution_count": 21,
   "metadata": {},
   "outputs": [],
   "source": [
    "from gensim.models import Word2Vec,word2vec\n",
    "model = Word2Vec(sentences=x_train_word, vector_size=100, window=5, min_count=5, workers=4, sg=0)"
   ]
  },
  {
   "cell_type": "code",
   "execution_count": 22,
   "metadata": {},
   "outputs": [
    {
     "data": {
      "image/png": "[encoded data removed]",
      "text/plain": [
       "<Figure size 432x288 with 1 Axes>"
      ]
     },
     "metadata": {
      "needs_background": "light"
     },
     "output_type": "display_data"
    }
   ],
   "source": [
    "bargraph = model.wv.most_similar(positive=['국민'],topn=10)\n",
    "showGraph(bargraph)\n",
    "plt.show()"
   ]
  },
  {
   "attachments": {},
   "cell_type": "markdown",
   "metadata": {},
   "source": [
    "## 사전학습 가중치로 비교"
   ]
  },
  {
   "cell_type": "code",
   "execution_count": 23,
   "metadata": {},
   "outputs": [
    {
     "data": {
      "image/png": "[encoded data removed]",
      "text/plain": [
       "<Figure size 432x288 with 1 Axes>"
      ]
     },
     "metadata": {
      "needs_background": "light"
     },
     "output_type": "display_data"
    }
   ],
   "source": [
    "# 모델 불러오기\n",
    "model_filename = '../data/word2vec_ko.model'\n",
    "model = word2vec.Word2Vec.load(model_filename)\n",
    "\n",
    "# 유사도 구하기\n",
    "# 국민이라는 단어와 유사도가 높은 단어 10개를 리스트로 반환\n",
    "bargraph = model.wv.most_similar(positive=['국민'],topn=10)\n",
    "showGraph(bargraph)\n",
    "plt.show()"
   ]
  },
  {
   "attachments": {},
   "cell_type": "markdown",
   "metadata": {},
   "source": [
    "# 사전학습 가중치 활용"
   ]
  },
  {
   "cell_type": "code",
   "execution_count": 24,
   "metadata": {},
   "outputs": [],
   "source": [
    "w2v = word2vec.Word2Vec.load(model_filename)"
   ]
  },
  {
   "cell_type": "code",
   "execution_count": 25,
   "metadata": {},
   "outputs": [
    {
     "name": "stdout",
     "output_type": "stream",
     "text": [
      "Model: \"sequential\"\n",
      "_________________________________________________________________\n",
      "Layer (type)                 Output Shape              Param #   \n",
      "=================================================================\n",
      "embedding (Embedding)        (None, None, 100)         30296000  \n",
      "_________________________________________________________________\n",
      "gru (GRU)                    (None, None, 128)         88320     \n",
      "_________________________________________________________________\n",
      "dense (Dense)                (None, None, 32)          4128      \n",
      "_________________________________________________________________\n",
      "gru_1 (GRU)                  (None, None, 128)         62208     \n",
      "_________________________________________________________________\n",
      "dense_1 (Dense)              (None, None, 32)          4128      \n",
      "_________________________________________________________________\n",
      "gru_2 (GRU)                  (None, 128)               62208     \n",
      "_________________________________________________________________\n",
      "dense_2 (Dense)              (None, 32)                4128      \n",
      "_________________________________________________________________\n",
      "dense_3 (Dense)              (None, 1)                 33        \n",
      "=================================================================\n",
      "Total params: 30,521,153\n",
      "Trainable params: 30,521,153\n",
      "Non-trainable params: 0\n",
      "_________________________________________________________________\n"
     ]
    }
   ],
   "source": [
    "vocab_size = 302960  # 어휘 사전의 크기입니다(10개의 단어)\n",
    "word_vector_dim = 100   # 단어 하나를 표현하는 임베딩 벡터의 차원 수입니다. \n",
    "\n",
    "model_gru = tf.keras.Sequential()\n",
    "model_gru.add(tf.keras.layers.Embedding(vocab_size, word_vector_dim, input_shape=(None,),weights=[w2v.wv.vectors]))\n",
    "model_gru.add(tf.keras.layers.GRU(128, return_sequences=True))\n",
    "model_gru.add(tf.keras.layers.Dense(32, activation='relu'))\n",
    "model_gru.add(tf.keras.layers.GRU(128, return_sequences=True))\n",
    "model_gru.add(tf.keras.layers.Dense(32, activation='relu'))\n",
    "model_gru.add(tf.keras.layers.GRU(128))\n",
    "model_gru.add(tf.keras.layers.Dense(32, activation='relu'))\n",
    "model_gru.add(tf.keras.layers.Dense(1, activation='sigmoid')) # 최종 출력은 긍정/부정을 나타내는 1dim 입니다.\n",
    "model_gru.summary()"
   ]
  },
  {
   "cell_type": "code",
   "execution_count": 26,
   "metadata": {},
   "outputs": [
    {
     "name": "stdout",
     "output_type": "stream",
     "text": [
      "Epoch 1/5\n",
      "264/264 [==============================] - 16s 40ms/step - loss: 0.4774 - accuracy: 0.7598 - val_loss: 0.4152 - val_accuracy: 0.8039\n",
      "Epoch 2/5\n",
      "264/264 [==============================] - 10s 36ms/step - loss: 0.3605 - accuracy: 0.8387 - val_loss: 0.3669 - val_accuracy: 0.8381\n",
      "Epoch 3/5\n",
      "264/264 [==============================] - 10s 36ms/step - loss: 0.3164 - accuracy: 0.8627 - val_loss: 0.3436 - val_accuracy: 0.8501\n",
      "Epoch 4/5\n",
      "264/264 [==============================] - 10s 37ms/step - loss: 0.2830 - accuracy: 0.8809 - val_loss: 0.3447 - val_accuracy: 0.8495\n",
      "Epoch 5/5\n",
      "264/264 [==============================] - 10s 37ms/step - loss: 0.2516 - accuracy: 0.8969 - val_loss: 0.3364 - val_accuracy: 0.8556\n"
     ]
    }
   ],
   "source": [
    "model_gru.compile(optimizer='adam',\n",
    "              loss='binary_crossentropy',\n",
    "              metrics=['accuracy'])\n",
    "              \n",
    "epochs=5  # 몇 epoch를 훈련하면 좋을지 결과를 보면서 바꾸어 봅시다. \n",
    "\n",
    "history = model_gru.fit(x_train,\n",
    "                    y_train,\n",
    "                    epochs=epochs,\n",
    "                    batch_size=512,\n",
    "                    validation_data=(val_x, val_y),\n",
    "                    verbose=1)"
   ]
  },
  {
   "cell_type": "code",
   "execution_count": null,
   "metadata": {},
   "outputs": [],
   "source": []
  }
 ],
 "metadata": {
  "kernelspec": {
   "display_name": "base",
   "language": "python",
   "name": "python3"
  },
  "language_info": {
   "codemirror_mode": {
    "name": "ipython",
    "version": 3
   },
   "file_extension": ".py",
   "mimetype": "text/x-python",
   "name": "python",
   "nbconvert_exporter": "python",
   "pygments_lexer": "ipython3",
   "version": "3.9.7"
  },
  "orig_nbformat": 4,
  "vscode": {
   "interpreter": {
    "hash": "d4d1e4263499bec80672ea0156c357c1ee493ec2b1c70f0acce89fc37c4a6abe"
   }
  }
 },
 "nbformat": 4,
 "nbformat_minor": 2
}
