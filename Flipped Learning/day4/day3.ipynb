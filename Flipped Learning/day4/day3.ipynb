{
 "cells": [
  {
   "cell_type": "code",
   "execution_count": null,
   "metadata": {},
   "outputs": [],
   "source": [
    "## 소수 찾기 \n",
    "## 단순 노가다 \n",
    "a = []\n",
    "for i in range(1,1000000):\n",
    "    for j in range(2,i):\n",
    "        if i%j == 0:\n",
    "            break      \n",
    "    else:\n",
    "        a.append(i)\n",
    "\n",
    "start,end = input().split()\n",
    "\n",
    "a[a.index(int(start)):a.index(int(end))+1]\n",
    "\n",
    "for i in a[a.index(int(start)):a.index(int(end))+1]:\n",
    "    print(i)\n"
   ]
  },
  {
   "cell_type": "code",
   "execution_count": 8,
   "metadata": {},
   "outputs": [
    {
     "name": "stdout",
     "output_type": "stream",
     "text": [
      "11\n",
      "13\n"
     ]
    }
   ],
   "source": [
    "## 제곱근 활용 \n",
    "## 기본 원리 -> \n",
    "## 약수는 대칭이다. 16 = 1,2,4,8,16 \n",
    "## 약수의 중간은 제곱근 근처이라  \n",
    "import math \n",
    "\n",
    "def is_prime_num(x):\n",
    "    for i in range(2,int(math.sqrt(x))+1):\n",
    "        if x%i == 0:\n",
    "            return False\n",
    "    return True\n",
    "\n",
    "M, N = map(int,input().split())\n",
    "\n",
    "for i in range(M,N+1):\n",
    "    if is_prime_num(i):\n",
    "        print(i)\n",
    "\n"
   ]
  },
  {
   "cell_type": "code",
   "execution_count": null,
   "metadata": {},
   "outputs": [],
   "source": [
    "# 에라토스테네스의 체\n",
    "\"\"\"1. 2 ~ N까지의 범위가 담긴 배열을 만든다.\n",
    "\n",
    "2. 해당 배열 내의 가장 작은 수 i 부터 시작하여, i의 배수들을 해당 배열에서 지워준다. (i는 소수이기 때문에 i자체는 지우지 않는다.)\n",
    "\n",
    "3. 주어진 범위 내에서 i의 배수가 모두 지워지면 i 다음으로 작은 수의 배수를 같은 방식으로 배열에서 지워준다.\n",
    "\n",
    "4. 더 이상 반복할 수 없을 때까지 2, 3번의 과정을 반복해준다.\n",
    " 1은 소수가 아님\n",
    "\"\"\"\n",
    "\n",
    "import math \n",
    "\n",
    "m, n = map(int,input().split())\n",
    "arr = [True for _ in range(n+1)]\n",
    "\n",
    "for i in range(2, int(math.sqrt(n))+1):\n",
    "    if arr[i] == True :\n",
    "        j = 2\n",
    "        while i*j <= n:\n",
    "            arr[i*j] = Fals  e\n",
    "            j += 1\n",
    "\n",
    "for i in range(m, n+1):\n",
    "    if i > 1:\n",
    "        if arr[i]: ## 1은 소수가 아님\n",
    "            print(i)\n",
    "        \n",
    "\n"
   ]
  },
  {
   "cell_type": "code",
   "execution_count": 14,
   "metadata": {},
   "outputs": [
    {
     "name": "stdout",
     "output_type": "stream",
     "text": [
      "3\n"
     ]
    }
   ],
   "source": [
    "import math \n",
    "\n",
    "num_len = int(input())\n",
    "nums = list(map(int,input().split()))\n",
    "\n",
    "def is_prime_num(x):\n",
    "    if x == 1:\n",
    "        return False\n",
    "    for i in range(2,int(math.sqrt(x))+1):\n",
    "        if x%i == 0:\n",
    "            return False\n",
    "    return True\n",
    "\n",
    "prime_num = 0\n",
    "for i in nums:\n",
    "    if is_prime_num(i):\n",
    "        prime_num+=1\n",
    "\n",
    "print(prime_num)\n",
    "    "
   ]
  },
  {
   "cell_type": "code",
   "execution_count": 15,
   "metadata": {},
   "outputs": [
    {
     "name": "stdout",
     "output_type": "stream",
     "text": [
      "6\n",
      "72\n"
     ]
    }
   ],
   "source": [
    "## 최대공약수, 최소공배수 구하기 \n",
    "import math\n",
    "\n",
    "num1, num2 = map(int,input().split())\n",
    "\n",
    "print(math.gcd(num1,num2))\n",
    "print(math.lcm(num1,num2))"
   ]
  },
  {
   "cell_type": "code",
   "execution_count": 3,
   "metadata": {},
   "outputs": [
    {
     "name": "stdout",
     "output_type": "stream",
     "text": [
      "2\n"
     ]
    }
   ],
   "source": [
    "## 팩토리얼 0의 개수\n",
    "import math\n",
    "\n",
    "num = int(input())\n",
    "\n",
    "n_fac = math.factorial(num)\n",
    "\n",
    "count = 0 \n",
    "while True:\n",
    "    if n_fac % 10 == 0:\n",
    "       n_fac = n_fac // 10\n",
    "       count += 1\n",
    "    else:\n",
    "        break\n",
    "print(count)\n",
    "    "
   ]
  },
  {
   "cell_type": "code",
   "execution_count": 14,
   "metadata": {},
   "outputs": [
    {
     "name": "stdout",
     "output_type": "stream",
     "text": [
      "55\n"
     ]
    }
   ],
   "source": [
    "## 피보나치수열\n",
    "def f(n) :\n",
    "    return 0 if n == 0 else 1 if n == 1 else f(n-1) + f(n-2)\n",
    "num = int(input())\n",
    "print(f(num))"
   ]
  },
  {
   "cell_type": "code",
   "execution_count": 19,
   "metadata": {},
   "outputs": [
    {
     "name": "stdout",
     "output_type": "stream",
     "text": [
      "55\n"
     ]
    }
   ],
   "source": [
    "## 피보나치 수열 top down\n",
    "n = int(input())\n",
    "memo = [0] * (n+1)\n",
    "def f_top(n):\n",
    "    if n == 0:\n",
    "        return 0\n",
    "    elif n == 1:\n",
    "        return 1\n",
    "    elif memo[n]:\n",
    "        return memo[n]\n",
    "    \n",
    "    memo[n] = f_top(n-1) + f_top(n-2)\n",
    "    return memo[n]\n",
    "\n",
    "print(f_top(n))"
   ]
  },
  {
   "cell_type": "code",
   "execution_count": 18,
   "metadata": {},
   "outputs": [
    {
     "name": "stdout",
     "output_type": "stream",
     "text": [
      "55\n"
     ]
    }
   ],
   "source": [
    "## 피보나치 수열 bottom up\n",
    "n = int(input())\n",
    "\n",
    "memo = [0] * (n+1)\n",
    "def f_bottom(n):\n",
    "    memo[0] = 0\n",
    "    memo[1] = 1\n",
    "    for i in range(2,n+1):\n",
    "        memo[i] = memo[i-1] + memo[i-2]\n",
    "    return memo[n]\n",
    "\n",
    "print(f_bottom(n))"
   ]
  },
  {
   "cell_type": "code",
   "execution_count": null,
   "metadata": {},
   "outputs": [],
   "source": []
  }
 ],
 "metadata": {
  "kernelspec": {
   "display_name": "monai",
   "language": "python",
   "name": "python3"
  },
  "language_info": {
   "codemirror_mode": {
    "name": "ipython",
    "version": 3
   },
   "file_extension": ".py",
   "mimetype": "text/x-python",
   "name": "python",
   "nbconvert_exporter": "python",
   "pygments_lexer": "ipython3",
   "version": "3.10.6"
  },
  "orig_nbformat": 4,
  "vscode": {
   "interpreter": {
    "hash": "e21402f43875f5569f3df54104f19551925d990f816aafe3db5bccc29e096f43"
   }
  }
 },
 "nbformat": 4,
 "nbformat_minor": 2
}
