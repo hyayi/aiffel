{
 "cells": [
  {
   "cell_type": "code",
   "execution_count": 13,
   "metadata": {},
   "outputs": [
    {
     "name": "stdout",
     "output_type": "stream",
     "text": [
      "15\n"
     ]
    }
   ],
   "source": [
    "money = int(input())\n",
    "coins = [500, 100, 50, 10, 5, 1]\n",
    "num = 0\n",
    "money = 1000 - money\n",
    "for coin in coins:\n",
    "    num += money // coin\n",
    "    money = money - (money // coin) * coin\n",
    "print(num)"
   ]
  },
  {
   "cell_type": "code",
   "execution_count": 3,
   "metadata": {},
   "outputs": [
    {
     "name": "stdout",
     "output_type": "stream",
     "text": [
      "3\n"
     ]
    }
   ],
   "source": [
    "## \n",
    "inputs = int(input())\n",
    "mountains = list(map(int, input().rstrip().split()))\n",
    "\n",
    "max_attact = 0\n",
    "i = 0\n",
    "\n",
    "while True:\n",
    "    attact = 0\n",
    "    \n",
    "    for j in range(i+1, len(mountains)):\n",
    "        if mountains[i] > mountains[j]:\n",
    "            attact += 1\n",
    "        else:         \n",
    "            break\n",
    "\n",
    "    if attact > max_attact:\n",
    "        max_attact = attact\n",
    "        \n",
    "    if i == j :\n",
    "        break\n",
    "    else :\n",
    "        i = j \n",
    "print(max_attact)\n",
    "            "
   ]
  },
  {
   "cell_type": "code",
   "execution_count": null,
   "metadata": {},
   "outputs": [],
   "source": [
    "#백준 2828(사과 담기 게임)\n",
    "import sys\n",
    "input = sys.stdin.readline\n",
    "\n",
    "n, m = map(int, input().split())  \n",
    "apple = int(input())  \n",
    "\n",
    "left = 1 \n",
    "right = m  \n",
    "sum = 0 \n",
    "\n",
    "for _ in range(apple):\n",
    "    where = int(input())  \n",
    "    \n",
    "    if left <= where and where <= right:  \n",
    "        continue\n",
    "        \n",
    "    if left > where:\n",
    "        sum += (left - where)\n",
    "        right -= (left - where)\n",
    "        left = where\n",
    "    else:  \n",
    "        sum += (where - right)\n",
    "        left += (where - right)\n",
    "        right = where\n",
    "\n",
    "print(sum)"
   ]
  },
  {
   "cell_type": "code",
   "execution_count": 5,
   "metadata": {},
   "outputs": [
    {
     "name": "stdout",
     "output_type": "stream",
     "text": [
      "5\n"
     ]
    }
   ],
   "source": [
    "import sys\n",
    "input = sys.stdin.readline\n",
    "\n",
    "n, m = map(int, input().split()) \n",
    "apple = int(input())  \n",
    "\n",
    "left = 1  \n",
    "right = m  \n",
    "sum = 0  \n",
    "\n",
    "for _ in range(apple):\n",
    "    where = int(input())  \n",
    "    \n",
    "    if left <= where and where <= right:  \n",
    "        continue\n",
    "        \n",
    "    if left > where: \n",
    "        sum += (left - where)\n",
    "        right -= (left - where)\n",
    "        left = where\n",
    "    else:  \n",
    "        sum += (where - right)\n",
    "        left += (where - right)\n",
    "        right = where\n",
    "\n",
    "print(sum)"
   ]
  },
  {
   "cell_type": "code",
   "execution_count": null,
   "metadata": {},
   "outputs": [],
   "source": [
    "n = int(input())\n",
    "\n",
    "a_list = list(map(int, input().split()))\n",
    "b_list = list(map(int, input().split()))\n",
    "\n",
    "s = 0\n",
    "for i in range(n):\n",
    "    s += min(a_list) * max(b_list)\n",
    "    a_list.pop(a_list.index(min(a_list)))\n",
    "    b_list.pop(b_list.index(max(b_list)))\n",
    "\n",
    "print(s)"
   ]
  },
  {
   "cell_type": "code",
   "execution_count": null,
   "metadata": {},
   "outputs": [],
   "source": [
    "n = int(input())\n",
    "m = []\n",
    "for i in range(n):\n",
    "    m.append(int(input()))\n",
    "\n",
    "m.sort(reverse=True)\n",
    "result = []\n",
    "for j in range(n):\n",
    "    result.append(m[j] * (j+1))\n",
    "\n",
    "print(max(result))"
   ]
  },
  {
   "cell_type": "code",
   "execution_count": null,
   "metadata": {},
   "outputs": [],
   "source": []
  },
  {
   "cell_type": "code",
   "execution_count": 10,
   "metadata": {},
   "outputs": [
    {
     "ename": "IndexError",
     "evalue": "list index out of range",
     "output_type": "error",
     "traceback": [
      "\u001b[1;31m---------------------------------------------------------------------------\u001b[0m",
      "\u001b[1;31mIndexError\u001b[0m                                Traceback (most recent call last)",
      "Cell \u001b[1;32mIn[10], line 5\u001b[0m\n\u001b[0;32m      2\u001b[0m list_1 \u001b[39m=\u001b[39m \u001b[39mlist\u001b[39m(\u001b[39mmap\u001b[39m(\u001b[39mint\u001b[39m, \u001b[39minput\u001b[39m()\u001b[39m.\u001b[39msplit()))\n\u001b[0;32m      3\u001b[0m list_2 \u001b[39m=\u001b[39m \u001b[39mlist\u001b[39m(\u001b[39mmap\u001b[39m(\u001b[39mint\u001b[39m, \u001b[39minput\u001b[39m()\u001b[39m.\u001b[39msplit()))\n\u001b[1;32m----> 5\u001b[0m list_1\u001b[39m.\u001b[39;49msort(key \u001b[39m=\u001b[39;49m \u001b[39mlambda\u001b[39;49;00m x : list_2[x])\n\u001b[0;32m      7\u001b[0m \u001b[39msum\u001b[39m \u001b[39m=\u001b[39m \u001b[39m0\u001b[39m\n\u001b[0;32m      8\u001b[0m \u001b[39mfor\u001b[39;00m i \u001b[39min\u001b[39;00m \u001b[39mrange\u001b[39m(\u001b[39mlen\u001b[39m(list_1)):\n",
      "Cell \u001b[1;32mIn[10], line 5\u001b[0m, in \u001b[0;36m<lambda>\u001b[1;34m(x)\u001b[0m\n\u001b[0;32m      2\u001b[0m list_1 \u001b[39m=\u001b[39m \u001b[39mlist\u001b[39m(\u001b[39mmap\u001b[39m(\u001b[39mint\u001b[39m, \u001b[39minput\u001b[39m()\u001b[39m.\u001b[39msplit()))\n\u001b[0;32m      3\u001b[0m list_2 \u001b[39m=\u001b[39m \u001b[39mlist\u001b[39m(\u001b[39mmap\u001b[39m(\u001b[39mint\u001b[39m, \u001b[39minput\u001b[39m()\u001b[39m.\u001b[39msplit()))\n\u001b[1;32m----> 5\u001b[0m list_1\u001b[39m.\u001b[39msort(key \u001b[39m=\u001b[39m \u001b[39mlambda\u001b[39;00m x : list_2[x])\n\u001b[0;32m      7\u001b[0m \u001b[39msum\u001b[39m \u001b[39m=\u001b[39m \u001b[39m0\u001b[39m\n\u001b[0;32m      8\u001b[0m \u001b[39mfor\u001b[39;00m i \u001b[39min\u001b[39;00m \u001b[39mrange\u001b[39m(\u001b[39mlen\u001b[39m(list_1)):\n",
      "\u001b[1;31mIndexError\u001b[0m: list index out of range"
     ]
    }
   ],
   "source": [
    "a = int(input())\n",
    "list_1 = list(map(int, input().split()))\n",
    "list_2 = list(map(int, input().split()))\n",
    "\n",
    "index = list(range(len(list_1)))\n",
    "list_1.sort(key = lambda x : list_2[x])\n",
    "\n",
    "sum = 0\n",
    "for i in range(len(list_1)):\n",
    "    sum += list_1[i] * list_2[i]"
   ]
  },
  {
   "cell_type": "code",
   "execution_count": null,
   "metadata": {},
   "outputs": [],
   "source": []
  }
 ],
 "metadata": {
  "kernelspec": {
   "display_name": "monai",
   "language": "python",
   "name": "python3"
  },
  "language_info": {
   "codemirror_mode": {
    "name": "ipython",
    "version": 3
   },
   "file_extension": ".py",
   "mimetype": "text/x-python",
   "name": "python",
   "nbconvert_exporter": "python",
   "pygments_lexer": "ipython3",
   "version": "3.10.6"
  },
  "orig_nbformat": 4,
  "vscode": {
   "interpreter": {
    "hash": "e21402f43875f5569f3df54104f19551925d990f816aafe3db5bccc29e096f43"
   }
  }
 },
 "nbformat": 4,
 "nbformat_minor": 2
}
