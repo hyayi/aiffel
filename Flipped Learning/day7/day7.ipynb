{
 "cells": [
  {
   "cell_type": "code",
   "execution_count": 11,
   "metadata": {},
   "outputs": [
    {
     "name": "stdout",
     "output_type": "stream",
     "text": [
      "999999901\n"
     ]
    }
   ],
   "source": [
    "a,b,v = map(int,input().split())\n",
    "\n",
    "distans = 0\n",
    "day = 0\n",
    "while True :\n",
    "    day += 1\n",
    "    distans += a\n",
    "    if distans >= v:\n",
    "        break \n",
    "    distans -= b\n",
    "print(day)"
   ]
  },
  {
   "cell_type": "code",
   "execution_count": 3,
   "metadata": {},
   "outputs": [
    {
     "name": "stdout",
     "output_type": "stream",
     "text": [
      "4\n"
     ]
    }
   ],
   "source": [
    "import math \n",
    "a,b,v = map(int,input().split())\n",
    "\n",
    "day = (v-b)/(a-b)\n",
    "print(math.ceil(day))"
   ]
  },
  {
   "cell_type": "code",
   "execution_count": 16,
   "metadata": {},
   "outputs": [],
   "source": [
    "import sys \n",
    "input = sys.stdin.readline\n",
    "\n",
    "t = int(input())\n",
    "\n",
    "for _ in range(t):\n",
    "    note1_numbers = int(input())\n",
    "    note1 = set(map(int,input().rstrip().split()))\n",
    "    note2_numbers = int(input())\n",
    "    note2 = list(map(int,input().rstrip().split()))\n",
    "    \n",
    "    for i in note2:\n",
    "        if i in note1:\n",
    "            print(1)\n",
    "        else:\n",
    "            print(0 )"
   ]
  },
  {
   "cell_type": "code",
   "execution_count": 1,
   "metadata": {},
   "outputs": [
    {
     "name": "stdout",
     "output_type": "stream",
     "text": [
      "1\n",
      "1\n",
      "0\n",
      "0\n",
      "1\n"
     ]
    }
   ],
   "source": [
    "import sys \n",
    "\n",
    "\n",
    "t = int(input())\n",
    "\n",
    "for _ in range(t):\n",
    "    note1_numbers = int(input())\n",
    "    note1 = set(map(int,input().rstrip().split()))\n",
    "    note2_numbers = int(input())\n",
    "    note2 = list(map(int,input().rstrip().split()))\n",
    "    \n",
    "    for i in note2:\n",
    "        if i in note1:\n",
    "            print(1)\n",
    "        else:\n",
    "            print(0 )"
   ]
  },
  {
   "cell_type": "code",
   "execution_count": null,
   "metadata": {},
   "outputs": [],
   "source": [
    "from collections import Counter\n",
    "from sys import stdin\n",
    "\n",
    "n = stdin.readline().rstrip()\n",
    "card = list(map(int,stdin.readline().split()))\n",
    "m = stdin.readline().rstrip()\n",
    "test = list(map(int,stdin.readline().split()))\n",
    "\n",
    "count = Counter(card)\n",
    "\n",
    "for i in range(len(test)):\n",
    "    if test[i] in count:\n",
    "        print(count[test[i]], end=' ')\n",
    "    else:\n",
    "        print(0, end=' ')"
   ]
  }
 ],
 "metadata": {
  "kernelspec": {
   "display_name": "monai",
   "language": "python",
   "name": "python3"
  },
  "language_info": {
   "codemirror_mode": {
    "name": "ipython",
    "version": 3
   },
   "file_extension": ".py",
   "mimetype": "text/x-python",
   "name": "python",
   "nbconvert_exporter": "python",
   "pygments_lexer": "ipython3",
   "version": "3.10.6"
  },
  "orig_nbformat": 4,
  "vscode": {
   "interpreter": {
    "hash": "e21402f43875f5569f3df54104f19551925d990f816aafe3db5bccc29e096f43"
   }
  }
 },
 "nbformat": 4,
 "nbformat_minor": 2
}
